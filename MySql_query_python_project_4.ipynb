{
 "cells": [
  {
   "cell_type": "markdown",
   "metadata": {},
   "source": [
    "Using MySQL Connector and Python to implement a database on MySQL Server, and to create, read  data etc. in that database."
   ]
  },
  {
   "cell_type": "code",
   "execution_count": 3,
   "metadata": {},
   "outputs": [],
   "source": [
    "import mysql.connector\n",
    "from mysql.connector import Error\n",
    "import pandas as pd"
   ]
  },
  {
   "cell_type": "markdown",
   "metadata": {},
   "source": [
    "Connect to server and Create Database"
   ]
  },
  {
   "cell_type": "markdown",
   "metadata": {},
   "source": [
    "define a function in python which connects to MySQL Server.To do this we use the mysql.connector.connect() method."
   ]
  },
  {
   "cell_type": "code",
   "execution_count": 7,
   "metadata": {},
   "outputs": [
    {
     "name": "stdout",
     "output_type": "stream",
     "text": [
      "MySQL Database connection is successful\n"
     ]
    }
   ],
   "source": [
    "def create_server_connection(name_host, name_user, password_user):\n",
    "    Make_connection = None\n",
    "    try:\n",
    "        Make_connection = mysql.connector.connect(\n",
    "            host=name_host,\n",
    "            user=name_user,\n",
    "            passwd=password_user\n",
    "        )\n",
    "        print(\"MySQL Database connection is successful\")\n",
    "    except Error as err:\n",
    "        print(f\"Error: '{err}'\")\n",
    "\n",
    "    return Make_connection\n",
    "\n",
    "pw = \"*********\" #  MySQL Terminal password .\n",
    "db = \"covid_19_Health_connect\" # This is the name of the database.\n",
    "\n",
    "Make_connection = create_server_connection(\"localhost\", \"root\", pw)"
   ]
  },
  {
   "cell_type": "markdown",
   "metadata": {},
   "source": [
    "Create a new database"
   ]
  },
  {
   "cell_type": "markdown",
   "metadata": {},
   "source": [
    "Now, define a function to create a new database on server. Here we are using cursor.execute() to execute a CREATE DATABASE SQL command."
   ]
  },
  {
   "cell_type": "code",
   "execution_count": 8,
   "metadata": {},
   "outputs": [
    {
     "name": "stdout",
     "output_type": "stream",
     "text": [
      "Database created successfully\n"
     ]
    }
   ],
   "source": [
    "def create_database(Make_connection, query):\n",
    "    cursor = Make_connection.cursor()\n",
    "    try:\n",
    "        cursor.execute(query)\n",
    "        print(\"Database created successfully\")\n",
    "    except Error as err:\n",
    "        print(f\"Error: '{err}'\")\n",
    "\n",
    "create_database_query = \"CREATE DATABASE covid_19_Health_connect\"\n",
    "create_database(Make_connection, create_database_query)"
   ]
  },
  {
   "cell_type": "markdown",
   "metadata": {},
   "source": [
    "Modify server connection function, create database connection function"
   ]
  },
  {
   "cell_type": "markdown",
   "metadata": {},
   "source": [
    "After creating DB, modify our create_server_connection function to create a new function for connecting directly to that DB. This will prove more useful than just connecting to our server."
   ]
  },
  {
   "cell_type": "code",
   "execution_count": 9,
   "metadata": {},
   "outputs": [],
   "source": [
    "def create_db_connection(name_host, name_user, password_user, db_name):\n",
    "    Make_connection = None\n",
    "    try:\n",
    "        Make_connection = mysql.connector.connect(\n",
    "            host=name_host,\n",
    "            user=name_user,\n",
    "            passwd=password_user,\n",
    "            database=db_name\n",
    "        )\n",
    "        print(\"MySQL Database connection is successful\")\n",
    "    except Error as err:\n",
    "        print(f\"Error: '{err}'\")\n",
    "\n",
    "    return Make_connection"
   ]
  },
  {
   "cell_type": "markdown",
   "metadata": {},
   "source": [
    "Define Query Execution Function"
   ]
  },
  {
   "cell_type": "markdown",
   "metadata": {},
   "source": [
    "The final step of this stage is to create a function which will allow us to execute queries written in SQL.\n",
    "\n",
    "Again, using cursor.execute() to execute  commands."
   ]
  },
  {
   "cell_type": "code",
   "execution_count": 10,
   "metadata": {},
   "outputs": [],
   "source": [
    "def execute_query(Make_connection, query):\n",
    "    cursor = Make_connection.cursor()\n",
    "    try:\n",
    "        cursor.execute(query)\n",
    "        Make_connection.commit()\n",
    "        print(\"Query is successful\")\n",
    "    except Error as err:\n",
    "        print(f\"Error: '{err}'\")"
   ]
  },
  {
   "cell_type": "markdown",
   "metadata": {},
   "source": [
    "# Creating Tables"
   ]
  },
  {
   "cell_type": "code",
   "execution_count": 11,
   "metadata": {},
   "outputs": [
    {
     "name": "stdout",
     "output_type": "stream",
     "text": [
      "MySQL Database connection is successful\n",
      "Query is successful\n"
     ]
    }
   ],
   "source": [
    "# Assign SQL command to a python variable using triple quotes to create a multi-line string\n",
    "covid_patient_table = \"\"\"\n",
    "CREATE TABLE covid_patient (\n",
    "  patient_id INT PRIMARY KEY,\n",
    "  first_name VARCHAR(40) NOT NULL,\n",
    "  last_name VARCHAR(40) NOT NULL,\n",
    "  Sex VARCHAR(3) NOT NULL,\n",
    "  Age CHAR(4),\n",
    "  residential VARCHAR(50),\n",
    "  phone_no VARCHAR(20)\n",
    "  );\n",
    " \"\"\"\n",
    "\n",
    "Make_connection = create_db_connection(\"localhost\", \"root\", pw, db) # Connect to the Database\n",
    "execute_query(Make_connection, covid_patient_table) # Execute defined query"
   ]
  },
  {
   "cell_type": "code",
   "execution_count": 12,
   "metadata": {},
   "outputs": [
    {
     "name": "stdout",
     "output_type": "stream",
     "text": [
      "MySQL Database connection is successful\n",
      "Query is successful\n"
     ]
    }
   ],
   "source": [
    "covid_new_patient_table = \"\"\"\n",
    "CREATE TABLE new_covid_patient (\n",
    "  new_patient_id INT PRIMARY KEY,\n",
    "  new_first_name VARCHAR(40) NOT NULL,\n",
    "  new_last_name VARCHAR(40) NOT NULL,\n",
    "  new_Sex VARCHAR(3) NOT NULL,\n",
    "  new_Age INT,\n",
    "  new_residential VARCHAR(50),\n",
    "  new_phone_no VARCHAR(20),\n",
    "  new_blood_group CHAR(4),\n",
    "  patient INT\n",
    "  );\n",
    " \"\"\"\n",
    "Make_connection = create_db_connection(\"localhost\", \"root\", pw, db)\n",
    "execute_query(Make_connection, covid_new_patient_table)\n"
   ]
  },
  {
   "cell_type": "code",
   "execution_count": 14,
   "metadata": {},
   "outputs": [
    {
     "name": "stdout",
     "output_type": "stream",
     "text": [
      "MySQL Database connection is successful\n",
      "Query is successful\n"
     ]
    }
   ],
   "source": [
    "alter_new_patient = \"\"\"\n",
    "ALTER TABLE new_covid_patient\n",
    "ADD FOREIGN KEY(patient)\n",
    "REFERENCES covid_patient(patient_id)\n",
    "ON DELETE SET NULL;\n",
    "\"\"\"\n",
    "Make_connection = create_db_connection(\"localhost\", \"root\", pw, db)\n",
    "execute_query(Make_connection, alter_new_patient)"
   ]
  },
  {
   "cell_type": "code",
   "execution_count": 15,
   "metadata": {},
   "outputs": [
    {
     "name": "stdout",
     "output_type": "stream",
     "text": [
      "MySQL Database connection is successful\n",
      "Query is successful\n"
     ]
    }
   ],
   "source": [
    "pop_patient = \"\"\"\n",
    "INSERT INTO covid_patient (patient_id,first_name, last_name, sex, age, residential, phone_no) VALUES \n",
    "(1,  'James', 'Smith', 'M', '40', 'jaipur', '+911774553676'),\n",
    "(2, 'Stefanie', 'Martin', 'M', '27', 'noida', '+911234567890'), \n",
    "(3, 'Steve', 'Wang', 'M', '32', 'delhi', '+917840921333'),\n",
    "(4, 'Friederike',  'Müller-Rossi', 'F', '30', 'ajmer', '+912345678901'),\n",
    "(5, 'Isobel', 'Ivanova', 'F', '45',  'kota', '+911772635467'),\n",
    "(6, 'Niamh', 'Murphy',  'M', '38',  'sikar', '+911231231232');\n",
    "\"\"\"\n",
    "\n",
    "Make_connection = create_db_connection(\"localhost\", \"root\", pw, db)\n",
    "execute_query(Make_connection, pop_patient)"
   ]
  },
  {
   "cell_type": "code",
   "execution_count": 17,
   "metadata": {},
   "outputs": [
    {
     "name": "stdout",
     "output_type": "stream",
     "text": [
      "MySQL Database connection is successful\n",
      "Query is successful\n"
     ]
    }
   ],
   "source": [
    "pop_new_patient = \"\"\"\n",
    "INSERT INTO new_covid_patient VALUES\n",
    "(10,  'kemes', 'Sdtth', 'F', 40, 'udaipur', '+911345673676', 'b+', 1),\n",
    "(20, 'fanie',  'katinin',  'F', 27, 'dida', '+911239867890','A+', 3), \n",
    "(30, 'keteve', 'rngud',  'M', 32, 'medlhi', '+917842971333', 'o+', 2),\n",
    "(40, 'Froks',  'Miler', 'F', 30,  'jaiper', '+912352868901', 'AB+', 2),\n",
    "(50, 'lobel', 'peraova', 'M', 45,  'sirsa', '+911789475467', 'o+', 3),\n",
    "(60, 'klamh', 'sudjdfy',  'F', 38,  'kotar', '+911230881232', 'B-', 1);\n",
    "\"\"\"\n",
    "\n",
    "Make_connection = create_db_connection(\"localhost\", \"root\", pw, db)\n",
    "execute_query(Make_connection, pop_new_patient)"
   ]
  },
  {
   "cell_type": "markdown",
   "metadata": {},
   "source": [
    "Reading data"
   ]
  },
  {
   "cell_type": "markdown",
   "metadata": {},
   "source": [
    "define data reading function"
   ]
  },
  {
   "cell_type": "code",
   "execution_count": 18,
   "metadata": {},
   "outputs": [],
   "source": [
    "def read_query(Make_connection, query):\n",
    "    cursor = Make_connection.cursor()\n",
    "    result = None\n",
    "    try:\n",
    "        cursor.execute(query)\n",
    "        result = cursor.fetchall()\n",
    "        return result\n",
    "    except Error as err:\n",
    "        print(f\"Error: '{err}'\")"
   ]
  },
  {
   "cell_type": "markdown",
   "metadata": {},
   "source": [
    "Read data from database"
   ]
  },
  {
   "cell_type": "code",
   "execution_count": 19,
   "metadata": {},
   "outputs": [
    {
     "name": "stdout",
     "output_type": "stream",
     "text": [
      "MySQL Database connection is successful\n",
      "(1, 'James', 'Smith', 'M', '40', 'jaipur', '+911774553676')\n",
      "(2, 'Stefanie', 'Martin', 'M', '27', 'noida', '+911234567890')\n",
      "(3, 'Steve', 'Wang', 'M', '32', 'delhi', '+917840921333')\n",
      "(4, 'Friederike', 'Müller-Rossi', 'F', '30', 'ajmer', '+912345678901')\n",
      "(5, 'Isobel', 'Ivanova', 'F', '45', 'kota', '+911772635467')\n",
      "(6, 'Niamh', 'Murphy', 'M', '38', 'sikar', '+911231231232')\n"
     ]
    }
   ],
   "source": [
    "p1 = \"\"\"\n",
    "SELECT *\n",
    "FROM covid_patient;\n",
    "\"\"\"\n",
    "\n",
    "Make_connection = create_db_connection(\"localhost\", \"root\", pw, db)\n",
    "results = read_query(Make_connection, p1)\n",
    "\n",
    "for result in results:\n",
    "  print(result)"
   ]
  },
  {
   "cell_type": "markdown",
   "metadata": {},
   "source": [
    "Formating output into a list of lists"
   ]
  },
  {
   "cell_type": "code",
   "execution_count": 20,
   "metadata": {},
   "outputs": [
    {
     "name": "stdout",
     "output_type": "stream",
     "text": [
      "[[(1, 'James', 'Smith', 'M', '40', 'jaipur', '+911774553676')], [(2, 'Stefanie', 'Martin', 'M', '27', 'noida', '+911234567890')], [(3, 'Steve', 'Wang', 'M', '32', 'delhi', '+917840921333')], [(4, 'Friederike', 'Müller-Rossi', 'F', '30', 'ajmer', '+912345678901')], [(5, 'Isobel', 'Ivanova', 'F', '45', 'kota', '+911772635467')], [(6, 'Niamh', 'Murphy', 'M', '38', 'sikar', '+911231231232')]]\n"
     ]
    }
   ],
   "source": [
    "#Initialise empty list\n",
    "from_db = []\n",
    "\n",
    "# Loop over the results and append them into our list\n",
    "\n",
    "# Returns a list of tuples\n",
    "for result in results:\n",
    "  result = [result]\n",
    "  from_db.append(result)\n",
    "    \n",
    "print(from_db)"
   ]
  },
  {
   "cell_type": "markdown",
   "metadata": {},
   "source": [
    "Formatting Output into a pandas DataFrame"
   ]
  },
  {
   "cell_type": "code",
   "execution_count": 23,
   "metadata": {},
   "outputs": [
    {
     "data": {
      "text/html": [
       "<div>\n",
       "<style scoped>\n",
       "    .dataframe tbody tr th:only-of-type {\n",
       "        vertical-align: middle;\n",
       "    }\n",
       "\n",
       "    .dataframe tbody tr th {\n",
       "        vertical-align: top;\n",
       "    }\n",
       "\n",
       "    .dataframe thead th {\n",
       "        text-align: right;\n",
       "    }\n",
       "</style>\n",
       "<table border=\"1\" class=\"dataframe\">\n",
       "  <thead>\n",
       "    <tr style=\"text-align: right;\">\n",
       "      <th></th>\n",
       "      <th>patient_id</th>\n",
       "      <th>first_name</th>\n",
       "      <th>lastname</th>\n",
       "      <th>sex</th>\n",
       "      <th>Age</th>\n",
       "      <th>residential</th>\n",
       "      <th>phone_no</th>\n",
       "    </tr>\n",
       "  </thead>\n",
       "  <tbody>\n",
       "    <tr>\n",
       "      <th>0</th>\n",
       "      <td>1</td>\n",
       "      <td>James</td>\n",
       "      <td>Smith</td>\n",
       "      <td>M</td>\n",
       "      <td>40</td>\n",
       "      <td>jaipur</td>\n",
       "      <td>+911774553676</td>\n",
       "    </tr>\n",
       "    <tr>\n",
       "      <th>1</th>\n",
       "      <td>2</td>\n",
       "      <td>Stefanie</td>\n",
       "      <td>Martin</td>\n",
       "      <td>M</td>\n",
       "      <td>27</td>\n",
       "      <td>noida</td>\n",
       "      <td>+911234567890</td>\n",
       "    </tr>\n",
       "    <tr>\n",
       "      <th>2</th>\n",
       "      <td>3</td>\n",
       "      <td>Steve</td>\n",
       "      <td>Wang</td>\n",
       "      <td>M</td>\n",
       "      <td>32</td>\n",
       "      <td>delhi</td>\n",
       "      <td>+917840921333</td>\n",
       "    </tr>\n",
       "    <tr>\n",
       "      <th>3</th>\n",
       "      <td>4</td>\n",
       "      <td>Friederike</td>\n",
       "      <td>Müller-Rossi</td>\n",
       "      <td>F</td>\n",
       "      <td>30</td>\n",
       "      <td>ajmer</td>\n",
       "      <td>+912345678901</td>\n",
       "    </tr>\n",
       "    <tr>\n",
       "      <th>4</th>\n",
       "      <td>5</td>\n",
       "      <td>Isobel</td>\n",
       "      <td>Ivanova</td>\n",
       "      <td>F</td>\n",
       "      <td>45</td>\n",
       "      <td>kota</td>\n",
       "      <td>+911772635467</td>\n",
       "    </tr>\n",
       "    <tr>\n",
       "      <th>5</th>\n",
       "      <td>6</td>\n",
       "      <td>Niamh</td>\n",
       "      <td>Murphy</td>\n",
       "      <td>M</td>\n",
       "      <td>38</td>\n",
       "      <td>sikar</td>\n",
       "      <td>+911231231232</td>\n",
       "    </tr>\n",
       "  </tbody>\n",
       "</table>\n",
       "</div>"
      ],
      "text/plain": [
       "   patient_id  first_name      lastname sex Age residential       phone_no\n",
       "0           1       James         Smith   M  40      jaipur  +911774553676\n",
       "1           2    Stefanie        Martin   M  27       noida  +911234567890\n",
       "2           3       Steve          Wang   M  32       delhi  +917840921333\n",
       "3           4  Friederike  Müller-Rossi   F  30       ajmer  +912345678901\n",
       "4           5      Isobel       Ivanova   F  45        kota  +911772635467\n",
       "5           6       Niamh        Murphy   M  38       sikar  +911231231232"
      ]
     },
     "execution_count": 23,
     "metadata": {},
     "output_type": "execute_result"
    }
   ],
   "source": [
    "columns = [\"patient_id\", \"first_name\", \"lastname\", 'sex','Age',\"residential\", \"phone_no\"]\n",
    "df = pd.DataFrame(from_db, columns=columns)\n",
    "df"
   ]
  }
 ],
 "metadata": {
  "kernelspec": {
   "display_name": "Python 3",
   "language": "python",
   "name": "python3"
  },
  "language_info": {
   "codemirror_mode": {
    "name": "ipython",
    "version": 3
   },
   "file_extension": ".py",
   "mimetype": "text/x-python",
   "name": "python",
   "nbconvert_exporter": "python",
   "pygments_lexer": "ipython3",
   "version": "3.8.3"
  }
 },
 "nbformat": 4,
 "nbformat_minor": 4
}
